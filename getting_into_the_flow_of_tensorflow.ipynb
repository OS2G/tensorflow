{
  "nbformat": 4,
  "nbformat_minor": 0,
  "metadata": {
    "colab": {
      "name": "getting_into_the_flow_of_tensorflow.ipynb",
      "provenance": [],
      "collapsed_sections": []
    },
    "kernelspec": {
      "name": "python3",
      "display_name": "Python 3"
    }
  },
  "cells": [
    {
      "cell_type": "markdown",
      "metadata": {
        "id": "tBHgx2MFjQVJ"
      },
      "source": [
        "# Getting into the flow of TensorFlow"
      ]
    },
    {
      "cell_type": "markdown",
      "metadata": {
        "id": "osjwS5Utjar8"
      },
      "source": [
        "Jupyter notebooks are simply runtime blocks of python code that can interact with eachother. It's a great tool if you're just trying some stuff out with python, you're trying to document a process, or you want an easy to use and visual system to run your python code."
      ]
    },
    {
      "cell_type": "markdown",
      "metadata": {
        "id": "2foZD3y6j2Lf"
      },
      "source": [
        "They are composed of markdown blocks and code blocks. This allows for easy stylized documentation.\n",
        "\n",
        "Code blocks are executed with the \"play\" button to the left of the block where the brackets are. Once a block is executed, the output stays in memory and any prints, graphs, images, or tables are saved to the notebook itself. This means that a variable or function defined in another block will be visible to all blocks once the block has been executed. This is both useful and can be a pain since everything that's outside of a function global, as if this is one large python script.\n",
        "\n",
        "You can always rerun a block of code if you're changed things. The outputs will be overwritten and related variables updated."
      ]
    },
    {
      "cell_type": "markdown",
      "metadata": {
        "id": "NYSCOcScmN5M"
      },
      "source": [
        "## Importing libraries"
      ]
    },
    {
      "cell_type": "markdown",
      "metadata": {
        "id": "DanodEwJmRd4"
      },
      "source": [
        "Libraries can be imported anywhere within your code, but often times, people do so at the top of script so that you have everything you need when working.\n",
        "\n",
        "You can import libraries as is with a simple `import library`. But often it's useful to abreviate so that you don't need to type out the full name like `import lib`. You can also import a function or sub-library like:\n",
        "`import lib.sublib as slib` or `from lib.sublib import function as func` which will let you use `func()` anwhere in your code then."
      ]
    },
    {
      "cell_type": "code",
      "metadata": {
        "id": "DrVEo-QYi9NL",
        "outputId": "0b4a2eaa-e48d-4c61-d9bc-e49077e69dd9",
        "colab": {
          "base_uri": "https://localhost:8080/"
        }
      },
      "source": [
        "import tensorflow as tf\n",
        "\n",
        "# Helper libraries\n",
        "import numpy as np\n",
        "import matplotlib.pyplot as plt\n",
        "\n",
        "print(tf.__version__)"
      ],
      "execution_count": 4,
      "outputs": [
        {
          "output_type": "stream",
          "text": [
            "2.3.0\n"
          ],
          "name": "stdout"
        }
      ]
    },
    {
      "cell_type": "markdown",
      "metadata": {
        "id": "q-QSKMG8nscd"
      },
      "source": [
        "## Datasets\n"
      ]
    },
    {
      "cell_type": "markdown",
      "metadata": {
        "id": "_18AvxZjn5zb"
      },
      "source": [
        "When doing machine learning, you need a dataset to work with for training and testing. This can be images, text, datapoints in some format like csv, etc. In this case, we will be importing the MNIST handwriting dataset where we will try to build a recognizer that will recognize different handwritten numbers as their respective number.\n",
        "\n",
        "We first import the data set and then during the load step, we get a split of the data with training samples and testing samples. This is normally an 80/20 split.\n",
        "\n",
        "The X matrix is composed of \"features\" which describe the data and the Y matrix (or vector) is composed of \"labels\" which describe what feature we are trying to predict.\n",
        "\n",
        "In this case, we are working with images that have been converted to matrices of pixels. By default, the values are white color values from 0 to 255 where 0 is black and 255 is white. Everything in between is a form of grey.\n",
        "\n",
        "We load the data into X and Y training sets, both are subsets of the full set. We also get an X and Y test set which is a smaller subset of the full set. Both of these sets are independent, they have no overlapping samples which is key to measuring the performance of your model (machine learning system).\n",
        "\n",
        "We then normalize the color values to be floats of range [0., 1.], allowing tensorflow to work with the data."
      ]
    },
    {
      "cell_type": "code",
      "metadata": {
        "id": "BBJJdAWWj0PF",
        "outputId": "0a2ba688-48f5-4ff9-a8ca-f9037d497c76",
        "colab": {
          "base_uri": "https://localhost:8080/"
        }
      },
      "source": [
        "mnist = tf.keras.datasets.mnist\n",
        "\n",
        "(x_train, y_train), (x_test, y_test) = mnist.load_data()\n",
        "x_train, x_test = x_train / 255.0, x_test / 255.0"
      ],
      "execution_count": 2,
      "outputs": [
        {
          "output_type": "stream",
          "text": [
            "Downloading data from https://storage.googleapis.com/tensorflow/tf-keras-datasets/mnist.npz\n",
            "11493376/11490434 [==============================] - 1s 0us/step\n"
          ],
          "name": "stdout"
        }
      ]
    },
    {
      "cell_type": "code",
      "metadata": {
        "id": "9751O8VxtypF",
        "outputId": "c35bbe11-edd4-49a8-cf15-1762345c4dfc",
        "colab": {
          "base_uri": "https://localhost:8080/",
          "height": 269
        }
      },
      "source": [
        "plt.figure()\n",
        "plt.imshow(x_train[0])\n",
        "plt.colorbar()\n",
        "plt.grid(False)\n",
        "plt.show()"
      ],
      "execution_count": 5,
      "outputs": [
        {
          "output_type": "display_data",
          "data": {
            "image/png": "[encoded data removed]",
            "text/plain": [
              "<Figure size 432x288 with 2 Axes>"
            ]
          },
          "metadata": {
            "tags": [],
            "needs_background": "light"
          }
        }
      ]
    },
    {
      "cell_type": "markdown",
      "metadata": {
        "id": "ilUyb4JXjMdo"
      },
      "source": [
        "## Training\n",
        "\n",
        "A model is a machine learning algorithm with a certain set of parameters and a specific data set it trains on. Once it trains, it has a set of 'weights' which make up the model's parameters which is then used for predicting."
      ]
    },
    {
      "cell_type": "markdown",
      "metadata": {
        "id": "M1vd81masTno"
      },
      "source": [
        "We start by gibing some parameters to tensorflow's keras algorithm."
      ]
    },
    {
      "cell_type": "code",
      "metadata": {
        "id": "5izDmk6Bsxso"
      },
      "source": [
        "model = tf.keras.models.Sequential([\n",
        "  tf.keras.layers.Flatten(input_shape=(28, 28)),\n",
        "  tf.keras.layers.Dense(128, activation='relu'),\n",
        "  tf.keras.layers.Dropout(0.2),\n",
        "  tf.keras.layers.Dense(10)\n",
        "])"
      ],
      "execution_count": 6,
      "outputs": []
    },
    {
      "cell_type": "markdown",
      "metadata": {
        "id": "HyeHr0XgsrPk"
      },
      "source": [
        "We then train the model on a single input, at the same time getting predictions on what class it may be"
      ]
    },
    {
      "cell_type": "code",
      "metadata": {
        "id": "vjN0ZYhYsynX",
        "outputId": "0b4c9b16-9a9d-4b01-ca4d-c7878f47ae06",
        "colab": {
          "base_uri": "https://localhost:8080/"
        }
      },
      "source": [
        "predictions = model(x_train[:1]).numpy()\n",
        "predictions"
      ],
      "execution_count": 7,
      "outputs": [
        {
          "output_type": "execute_result",
          "data": {
            "text/plain": [
              "array([[ 0.05034987, -0.5623835 , -0.40568018, -0.9989566 ,  0.13403395,\n",
              "        -0.5725845 ,  0.06224975,  0.7666074 , -0.2527087 ,  0.68588805]],\n",
              "      dtype=float32)"
            ]
          },
          "metadata": {
            "tags": []
          },
          "execution_count": 7
        }
      ]
    },
    {
      "cell_type": "markdown",
      "metadata": {
        "id": "nB_E9luKsfax"
      },
      "source": [
        "We then use softmax regression as our activation function to classify the predictions"
      ]
    },
    {
      "cell_type": "code",
      "metadata": {
        "id": "3qc3YVRss5aa",
        "outputId": "7086ea64-875e-4d0f-b048-04b7abafd114",
        "colab": {
          "base_uri": "https://localhost:8080/"
        }
      },
      "source": [
        "tf.nn.softmax(predictions).numpy()"
      ],
      "execution_count": 8,
      "outputs": [
        {
          "output_type": "execute_result",
          "data": {
            "text/plain": [
              "array([[0.10167953, 0.05509686, 0.06444395, 0.03560619, 0.11055466,\n",
              "        0.05453767, 0.10289674, 0.20811349, 0.07509601, 0.19197482]],\n",
              "      dtype=float32)"
            ]
          },
          "metadata": {
            "tags": []
          },
          "execution_count": 8
        }
      ]
    },
    {
      "cell_type": "markdown",
      "metadata": {
        "id": "wZm1Mn0osunv"
      },
      "source": [
        "We get a loss function to test our training loss for an itteration"
      ]
    },
    {
      "cell_type": "code",
      "metadata": {
        "id": "L67tDsxWtALB"
      },
      "source": [
        "loss_fn = tf.keras.losses.SparseCategoricalCrossentropy(from_logits=True)"
      ],
      "execution_count": 9,
      "outputs": []
    },
    {
      "cell_type": "markdown",
      "metadata": {
        "id": "2-jpnZgBsz9t"
      },
      "source": [
        "We then compare our prediction to the expected class and get a loss or error"
      ]
    },
    {
      "cell_type": "code",
      "metadata": {
        "id": "Q_CSgFQGtC80",
        "outputId": "d3b9970a-6a1a-4106-b143-881e4daf579e",
        "colab": {
          "base_uri": "https://localhost:8080/"
        }
      },
      "source": [
        "loss_fn(y_train[:1], predictions).numpy()"
      ],
      "execution_count": 10,
      "outputs": [
        {
          "output_type": "execute_result",
          "data": {
            "text/plain": [
              "2.9088635"
            ]
          },
          "metadata": {
            "tags": []
          },
          "execution_count": 10
        }
      ]
    },
    {
      "cell_type": "markdown",
      "metadata": {
        "id": "NlNpqsd6tMC0"
      },
      "source": [
        "Now we compile our model to make it ready for training"
      ]
    },
    {
      "cell_type": "code",
      "metadata": {
        "id": "gXVCk9VgtFSg"
      },
      "source": [
        "model.compile(optimizer='adam',\n",
        "              loss=loss_fn,\n",
        "              metrics=['accuracy'])"
      ],
      "execution_count": 11,
      "outputs": []
    },
    {
      "cell_type": "markdown",
      "metadata": {
        "id": "wcfNwi8ZtPYN"
      },
      "source": [
        "Now we train the full set"
      ]
    },
    {
      "cell_type": "code",
      "metadata": {
        "id": "dEwJx2QRtItQ",
        "outputId": "9be4b78f-4457-411c-c5ec-9b2ab50f981a",
        "colab": {
          "base_uri": "https://localhost:8080/"
        }
      },
      "source": [
        "model.fit(x_train, y_train, epochs=5)"
      ],
      "execution_count": 12,
      "outputs": [
        {
          "output_type": "stream",
          "text": [
            "Epoch 1/5\n",
            "1875/1875 [==============================] - 3s 2ms/step - loss: 0.2957 - accuracy: 0.9139\n",
            "Epoch 2/5\n",
            "1875/1875 [==============================] - 3s 2ms/step - loss: 0.1426 - accuracy: 0.9574\n",
            "Epoch 3/5\n",
            "1875/1875 [==============================] - 3s 2ms/step - loss: 0.1072 - accuracy: 0.9672\n",
            "Epoch 4/5\n",
            "1875/1875 [==============================] - 3s 2ms/step - loss: 0.0872 - accuracy: 0.9736\n",
            "Epoch 5/5\n",
            "1875/1875 [==============================] - 3s 2ms/step - loss: 0.0740 - accuracy: 0.9770\n"
          ],
          "name": "stdout"
        },
        {
          "output_type": "execute_result",
          "data": {
            "text/plain": [
              "<tensorflow.python.keras.callbacks.History at 0x7f00aa01af98>"
            ]
          },
          "metadata": {
            "tags": []
          },
          "execution_count": 12
        }
      ]
    },
    {
      "cell_type": "markdown",
      "metadata": {
        "id": "Jxbwk4ZktQ_v"
      },
      "source": [
        "Here we evaluate on the test set, the accuracy and loss are shown."
      ]
    },
    {
      "cell_type": "code",
      "metadata": {
        "id": "izeg7vbDtNOF",
        "outputId": "9217fe31-0cb1-46d3-ce87-ecddf21ee29d",
        "colab": {
          "base_uri": "https://localhost:8080/"
        }
      },
      "source": [
        "model.evaluate(x_test,  y_test, verbose=2)"
      ],
      "execution_count": 13,
      "outputs": [
        {
          "output_type": "stream",
          "text": [
            "313/313 - 0s - loss: 0.0746 - accuracy: 0.9765\n"
          ],
          "name": "stdout"
        },
        {
          "output_type": "execute_result",
          "data": {
            "text/plain": [
              "[0.0746423527598381, 0.9764999747276306]"
            ]
          },
          "metadata": {
            "tags": []
          },
          "execution_count": 13
        }
      ]
    },
    {
      "cell_type": "code",
      "metadata": {
        "id": "VenMVIFstPcj"
      },
      "source": [
        "probability_model = tf.keras.Sequential([\n",
        "  model,\n",
        "  tf.keras.layers.Softmax()\n",
        "])"
      ],
      "execution_count": 14,
      "outputs": []
    },
    {
      "cell_type": "code",
      "metadata": {
        "id": "a4AN1pdatWsU",
        "outputId": "2d227d7d-edbc-4d7f-82d1-1c6566b87e4e",
        "colab": {
          "base_uri": "https://localhost:8080/"
        }
      },
      "source": [
        "probability_model(x_test[:5])"
      ],
      "execution_count": 15,
      "outputs": [
        {
          "output_type": "execute_result",
          "data": {
            "text/plain": [
              "<tf.Tensor: shape=(5, 10), dtype=float32, numpy=\n",
              "array([[1.7561521e-06, 9.7683817e-09, 4.7838062e-06, 1.0704575e-04,\n",
              "        3.5496578e-11, 7.9390566e-07, 2.3386213e-11, 9.9986231e-01,\n",
              "        9.7657653e-07, 2.2211436e-05],\n",
              "       [1.5959802e-08, 4.6700375e-06, 9.9993229e-01, 5.2654595e-05,\n",
              "        2.5957246e-12, 1.9332987e-07, 2.7605536e-08, 9.1872918e-13,\n",
              "        1.0111938e-05, 7.3793567e-12],\n",
              "       [3.3916713e-08, 9.9980742e-01, 3.1500203e-05, 7.5131248e-07,\n",
              "        2.5179634e-06, 4.3120453e-06, 2.2713490e-05, 9.9501893e-05,\n",
              "        3.1307747e-05, 6.8113380e-08],\n",
              "       [9.9991143e-01, 7.8763385e-11, 4.6582441e-05, 4.1764272e-07,\n",
              "        1.5265704e-07, 2.2786127e-05, 1.5423513e-05, 2.1970404e-06,\n",
              "        5.4373311e-07, 5.7743955e-07],\n",
              "       [7.0146089e-06, 7.5518279e-11, 9.1164975e-06, 1.4580699e-07,\n",
              "        9.9904102e-01, 2.6308696e-06, 3.4309999e-06, 2.6628300e-05,\n",
              "        9.7384673e-06, 9.0023078e-04]], dtype=float32)>"
            ]
          },
          "metadata": {
            "tags": []
          },
          "execution_count": 15
        }
      ]
    }
  ]
}